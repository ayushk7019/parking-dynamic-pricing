{
 "cells": [
  {
   "cell_type": "markdown",
   "id": "bc4a6bbb",
   "metadata": {},
   "source": [
    "Cleaned copy of Model 1 notebook."
   ]
  }
 ],
 "metadata": {},
 "nbformat": 4,
 "nbformat_minor": 5
}
